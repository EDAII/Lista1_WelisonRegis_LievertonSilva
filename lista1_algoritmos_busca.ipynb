{
 "cells": [
  {
   "cell_type": "code",
   "execution_count": null,
   "metadata": {},
   "outputs": [],
   "source": [
    "import pandas as pd"
   ]
  },
  {
   "cell_type": "code",
   "execution_count": null,
   "metadata": {},
   "outputs": [],
   "source": [
    "class Player:\n",
    "    def __init__(self, ID, name, photo, nationality, flag, club, club_logo):\n",
    "        self.ID = ID\n",
    "        self.name = name\n",
    "        self.photo = photo\n",
    "        self.nationality = nationality\n",
    "        self.flag = flag\n",
    "        self.club = club\n",
    "        self.club_logo = club_logo\n",
    "    \n",
    "    def __lt__(self, other):\n",
    "        return self.ID < other.ID"
   ]
  },
  {
   "cell_type": "code",
   "execution_count": null,
   "metadata": {},
   "outputs": [],
   "source": [
    "def read_csv(filename = './assets/data.csv'): \n",
    "    df = pd.read_csv(filename, usecols=['ID', 'Name', 'Photo', 'Nationality', 'Flag', 'Club', 'Club Logo'])\n",
    "    \n",
    "    players = []\n",
    "    for index, row in df.iterrows():\n",
    "        ID = row['ID']\n",
    "        name = row['Name']\n",
    "        photo = row['Photo']\n",
    "        nationality = row['Nationality']\n",
    "        flag = row['Flag']\n",
    "        club = row['Club']\n",
    "        club_logo = row['Club Logo']\n",
    "        \n",
    "        player = Player(ID, name, photo, nationality, flag, club, club_logo)\n",
    "        players.append(player)\n",
    "        \n",
    "    players.sort()\n",
    "    \n",
    "    return players"
   ]
  },
  {
   "cell_type": "code",
   "execution_count": null,
   "metadata": {},
   "outputs": [],
   "source": [
    "players = read_csv()"
   ]
  },
  {
   "cell_type": "code",
   "execution_count": null,
   "metadata": {},
   "outputs": [],
   "source": []
  }
 ],
 "metadata": {
  "kernelspec": {
   "display_name": "Python 3",
   "language": "python",
   "name": "python3"
  },
  "language_info": {
   "codemirror_mode": {
    "name": "ipython",
    "version": 3
   },
   "file_extension": ".py",
   "mimetype": "text/x-python",
   "name": "python",
   "nbconvert_exporter": "python",
   "pygments_lexer": "ipython3",
   "version": "3.6.8"
  }
 },
 "nbformat": 4,
 "nbformat_minor": 2
}
