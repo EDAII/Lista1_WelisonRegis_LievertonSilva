{
 "cells": [
  {
   "cell_type": "code",
   "execution_count": null,
   "metadata": {},
   "outputs": [],
   "source": [
    "import pandas as pd"
   ]
  },
  {
   "cell_type": "code",
   "execution_count": null,
   "metadata": {},
   "outputs": [],
   "source": [
    "class Player:\n",
    "    def __init__(self, ID, name, photo, nationality, flag, club, club_logo):\n",
    "        self.ID = int(ID)\n",
    "        self.name = name\n",
    "        self.photo = photo\n",
    "        self.nationality = nationality\n",
    "        self.flag = flag\n",
    "        self.club = club\n",
    "        self.club_logo = club_logo\n",
    "    \n",
    "    def __lt__(self, other):\n",
    "        return self.ID < other.ID"
   ]
  },
  {
   "cell_type": "code",
   "execution_count": null,
   "metadata": {},
   "outputs": [],
   "source": [
    "def read_csv(filename = './assets/data.csv'): \n",
    "    df = pd.read_csv(filename, usecols=['ID', 'Name', 'Photo', 'Nationality', 'Flag', 'Club', 'Club Logo'])\n",
    "    \n",
    "    players = []\n",
    "    for index, row in df.iterrows():\n",
    "        ID = int(row['ID'])\n",
    "        name = row['Name']\n",
    "        photo = row['Photo']\n",
    "        nationality = row['Nationality']\n",
    "        flag = row['Flag']\n",
    "        club = row['Club']\n",
    "        club_logo = row['Club Logo']\n",
    "        \n",
    "        player = Player(ID, name, photo, nationality, flag, club, club_logo)\n",
    "        players.append(player)\n",
    "        \n",
    "    players.sort()\n",
    "    \n",
    "    return players"
   ]
  },
  {
   "cell_type": "code",
   "execution_count": null,
   "metadata": {},
   "outputs": [],
   "source": [
    "players = read_csv()"
   ]
  },
  {
   "cell_type": "markdown",
   "metadata": {},
   "source": [
    "# Binary Search"
   ]
  },
  {
   "cell_type": "code",
   "execution_count": null,
   "metadata": {},
   "outputs": [],
   "source": [
    "def binary_search(players, key):\n",
    "    min_index = 0\n",
    "    max_index = len(players)-1\n",
    "    \n",
    "    while (min_index <= max_index):\n",
    "        middle = min_index + (max_index - min_index)//2\n",
    "        \n",
    "        if (players[middle].ID == key):\n",
    "            return middle\n",
    "        elif (players[middle].ID < key):\n",
    "            min_index = middle+1\n",
    "        else:\n",
    "            max_index = middle-1\n",
    "        \n",
    "    return \"Not found!\""
   ]
  },
  {
   "cell_type": "markdown",
   "metadata": {},
   "source": [
    "# Ternary Search"
   ]
  },
  {
   "cell_type": "code",
   "execution_count": null,
   "metadata": {},
   "outputs": [],
   "source": [
    "def ternary_search(players, key):\n",
    "    min_index = 0\n",
    "    max_index = len(players)\n",
    "    \n",
    "    while (min_index <= max_index):\n",
    "        middle1 = min_index + (max_index-min_index)//3\n",
    "        middle2 = max_index - (max_index-min_index)//3\n",
    "        \n",
    "        if players[middle1].ID == key:\n",
    "            return middle1\n",
    "        \n",
    "        if players[middle2].ID == key:\n",
    "            return middle2\n",
    "        \n",
    "        if key < players[middle1].ID:\n",
    "            max_index = middle1-1\n",
    "        elif key > players[middle2].ID:\n",
    "            min_index = middle2+1\n",
    "        else:\n",
    "            min_index = middle1+1\n",
    "            max_index = middle2-1\n",
    "    \n",
    "    return \"Not found!\""
   ]
  },
  {
   "cell_type": "code",
   "execution_count": null,
   "metadata": {},
   "outputs": [],
   "source": []
  }
 ],
 "metadata": {
  "kernelspec": {
   "display_name": "Python 3",
   "language": "python",
   "name": "python3"
  },
  "language_info": {
   "codemirror_mode": {
    "name": "ipython",
    "version": 3
   },
   "file_extension": ".py",
   "mimetype": "text/x-python",
   "name": "python",
   "nbconvert_exporter": "python",
   "pygments_lexer": "ipython3",
   "version": "3.6.8"
  }
 },
 "nbformat": 4,
 "nbformat_minor": 2
}
