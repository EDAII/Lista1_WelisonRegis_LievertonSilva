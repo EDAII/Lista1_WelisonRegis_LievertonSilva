{
 "cells": [
  {
   "cell_type": "markdown",
   "metadata": {},
   "source": [
    "# Imports"
   ]
  },
  {
   "cell_type": "code",
   "execution_count": 1,
   "metadata": {},
   "outputs": [],
   "source": [
    "import pandas as pd\n",
    "import numpy as np\n",
    "import matplotlib\n",
    "import random\n",
    "import time\n",
    "import urllib\n",
    "\n",
    "from numpy.random import seed, randint\n",
    "from matplotlib import pyplot as plt\n",
    "from ipywidgets import IntProgress\n",
    "from IPython.display import display"
   ]
  },
  {
   "cell_type": "markdown",
   "metadata": {},
   "source": [
    "# Soccer player class"
   ]
  },
  {
   "cell_type": "code",
   "execution_count": 2,
   "metadata": {},
   "outputs": [],
   "source": [
    "class Player:\n",
    "    \"\"\"Model to represent a soccer player\n",
    "\n",
    "    Attributes:\n",
    "        ID: ID of soccer player according to FIFA 19;\n",
    "        name: soccer player name;\n",
    "        photo: url with soccer photo;\n",
    "        nationality: player nationality;\n",
    "        club: club name;\n",
    "        club_logo: url with club logo photo.\n",
    "    \"\"\"\n",
    "    \n",
    "    def __init__(self, ID, name, photo, nationality, flag, club, club_logo):\n",
    "        self.ID = int(ID)\n",
    "        self.name = name\n",
    "        self.photo = photo\n",
    "        self.nationality = nationality\n",
    "        self.flag = flag\n",
    "        self.club = club\n",
    "        self.club_logo = club_logo\n",
    "    \n",
    "    def __lt__(self, other):\n",
    "        return self.ID < other.ID"
   ]
  },
  {
   "cell_type": "markdown",
   "metadata": {},
   "source": [
    "# Read csv file with soccer player informations"
   ]
  },
  {
   "cell_type": "code",
   "execution_count": 3,
   "metadata": {},
   "outputs": [],
   "source": [
    "def read_csv(filename = './assets/data.csv'): \n",
    "    \"\"\"Method to read specific soccer informations from csv file\n",
    "    \n",
    "    attributes:\n",
    "        filename: path to csv file with soccer informations.\n",
    "    \"\"\"\n",
    "    \n",
    "    df = pd.read_csv(filename, usecols=['ID', 'Name', 'Photo', 'Nationality', 'Flag', 'Club', 'Club Logo'])\n",
    "    \n",
    "    players = []\n",
    "    for index, row in df.iterrows():\n",
    "        ID = int(row['ID'])\n",
    "        name = row['Name']\n",
    "        photo = row['Photo']\n",
    "        nationality = row['Nationality']\n",
    "        flag = row['Flag']\n",
    "        club = row['Club']\n",
    "        club_logo = row['Club Logo']\n",
    "        \n",
    "        player = Player(ID, name, photo, nationality, flag, club, club_logo)\n",
    "        players.append(player)\n",
    "        \n",
    "    players.sort()\n",
    "    \n",
    "    return players"
   ]
  },
  {
   "cell_type": "code",
   "execution_count": 4,
   "metadata": {},
   "outputs": [],
   "source": [
    "players = read_csv()"
   ]
  },
  {
   "cell_type": "code",
   "execution_count": 5,
   "metadata": {},
   "outputs": [],
   "source": [
    "def show_player_informations(player):\n",
    "    \"\"\"show player informations, including photo\n",
    "    \n",
    "    Attributes:\n",
    "        player: soccer player.\n",
    "    \n",
    "    \n",
    "    OBS: INTERNET CONNECTION IS REQUIRED!\n",
    "    \"\"\"\n",
    "    \n",
    "    user_agent = 'Mozilla/5.0 (Windows; U; Windows NT 5.1; en-US; rv:1.9.0.7) Gecko/2009021910 Firefox/3.0.7'\n",
    "    \n",
    "    # take photo url and increase size with replace\n",
    "    player_photo = player.photo.replace(r'/4/', r'/6/')\n",
    "    \n",
    "    try:\n",
    "        request = urllib.request.Request(player_photo, headers={'User-Agent': user_agent})\n",
    "        response = urllib.request.urlopen(request)\n",
    "    except e:\n",
    "        print('Houve um problema na conexão com os servidores FIFA!')\n",
    "    \n",
    "    image = plt.imread(response, format='PNG') # read the image file in a numpy array\n",
    "    image = image.copy() # avoid read-only\n",
    "\n",
    "    plt.imshow(image)\n",
    "    plt.show()\n",
    "    \n",
    "    print('Nome: ', player.name)\n",
    "    print('Nacionalidade: ', player.nationality)\n",
    "    print('Clube: ', player.club)"
   ]
  },
  {
   "cell_type": "code",
   "execution_count": 6,
   "metadata": {},
   "outputs": [
    {
     "data": {
      "image/png": "[encoded data removed]",
      "text/plain": [
       "<Figure size 432x288 with 1 Axes>"
      ]
     },
     "metadata": {
      "needs_background": "light"
     },
     "output_type": "display_data"
    },
    {
     "name": "stdout",
     "output_type": "stream",
     "text": [
      "Nome:  F. Đorđević\n",
      "Nacionalidade:  Serbia\n",
      "Clube:  Chievo Verona\n"
     ]
    }
   ],
   "source": [
    "random_player = random.choice(players)\n",
    "\n",
    "show_player_informations(random_player)"
   ]
  },
  {
   "cell_type": "markdown",
   "metadata": {},
   "source": [
    "# Binary Search"
   ]
  },
  {
   "cell_type": "code",
   "execution_count": 7,
   "metadata": {},
   "outputs": [],
   "source": [
    "def binary_search(players, key):\n",
    "    \"\"\"Implementation of binary search algorithm\n",
    "    \n",
    "    Attributes:\n",
    "        players: list with all soccer players;\n",
    "        key: ID of player to search.\n",
    "    \"\"\"\n",
    "    \n",
    "    min_index = 0\n",
    "    max_index = len(players)-1\n",
    "    \n",
    "    while (min_index <= max_index):\n",
    "        middle = min_index + (max_index - min_index)//2\n",
    "        \n",
    "        if (players[middle].ID == key):\n",
    "            return middle\n",
    "        elif (players[middle].ID < key):\n",
    "            min_index = middle+1\n",
    "        else:\n",
    "            max_index = middle-1\n",
    "        \n",
    "    return \"Not found!\""
   ]
  },
  {
   "cell_type": "markdown",
   "metadata": {},
   "source": [
    "# Ternary Search"
   ]
  },
  {
   "cell_type": "code",
   "execution_count": 8,
   "metadata": {},
   "outputs": [],
   "source": [
    "def ternary_search(players, key):\n",
    "    \"\"\"Implementation of ternary search algorithm\n",
    "    \n",
    "    Attributes:\n",
    "        players: list with all soccer players;\n",
    "        key: ID of player to search. \n",
    "    \"\"\"\n",
    "    min_index = 0\n",
    "    max_index = len(players)\n",
    "    \n",
    "    while (min_index <= max_index):\n",
    "        middle1 = min_index + (max_index-min_index)//3\n",
    "        middle2 = max_index - (max_index-min_index)//3\n",
    "        \n",
    "        if players[middle1].ID == key:\n",
    "            return middle1\n",
    "        \n",
    "        if players[middle2].ID == key:\n",
    "            return middle2\n",
    "        \n",
    "        if key < players[middle1].ID:\n",
    "            max_index = middle1-1\n",
    "        elif key > players[middle2].ID:\n",
    "            min_index = middle2+1\n",
    "        else:\n",
    "            min_index = middle1+1\n",
    "            max_index = middle2-1\n",
    "    \n",
    "    return \"Not found!\""
   ]
  },
  {
   "cell_type": "markdown",
   "metadata": {},
   "source": [
    "# Table creator to indexed searchs"
   ]
  },
  {
   "cell_type": "code",
   "execution_count": 9,
   "metadata": {},
   "outputs": [],
   "source": [
    "def form_table(players, elements):\n",
    "    \"\"\"Create table to indexed searchs\n",
    "    \n",
    "    Attributes:\n",
    "        players: list with all soccer players;\n",
    "        elements: number of elements to form table.\n",
    "    \"\"\"\n",
    "    \n",
    "    table = []\n",
    "    i=1\n",
    "    while(i*elements < len(players)):\n",
    "        table.append(players[i*elements].ID)\n",
    "        i+=1\n",
    "    return table"
   ]
  },
  {
   "cell_type": "markdown",
   "metadata": {},
   "source": [
    "# Indexed Sequencial Search"
   ]
  },
  {
   "cell_type": "code",
   "execution_count": 10,
   "metadata": {},
   "outputs": [],
   "source": [
    "def indexed_sequencial_search(players, key):\n",
    "    \"\"\"Perform indexed sequencial search algorithm\n",
    "    \n",
    "    Attributes:\n",
    "        players: list with all soccer players;\n",
    "        key: ID of player to search. \n",
    "    \"\"\"\n",
    "    \n",
    "    index = 0;\n",
    "    elements = len(players)//90;\n",
    "    table1 = form_table(players,elements)\n",
    "    \n",
    "    for i in range(0,(len(table1) - 1)):\n",
    "        if(int(table1[i]) > key) and (not i):\n",
    "            index = 0\n",
    "            break\n",
    "        elif table1[i] == key:\n",
    "            return i*elements\n",
    "        elif table1[i] > key:\n",
    "            index = i - 1;\n",
    "            break\n",
    "            \n",
    "    index *= elements\n",
    "\n",
    "    for i in range(index, (len(players)-1)):\n",
    "        if (i == (index+elements)):\n",
    "            break\n",
    "        if (players[i].ID) == key:\n",
    "            return i\n",
    "    return \"Not found!\""
   ]
  },
  {
   "cell_type": "markdown",
   "metadata": {},
   "source": [
    "# Indexed Binary Search"
   ]
  },
  {
   "cell_type": "code",
   "execution_count": 11,
   "metadata": {},
   "outputs": [],
   "source": [
    "def indexed_binary_search(players, key):\n",
    "    \"\"\"Perform indexed binary search algorithm\n",
    "    \n",
    "    Attributes:\n",
    "        players: list with all soccer players;\n",
    "        key: ID of player to search.\n",
    "    \"\"\"\n",
    "    \n",
    "    index = 0;\n",
    "    elements = len(players)//9;\n",
    "    table1 = form_table(players,elements)\n",
    "    \n",
    "    for i in range(0,(len(table1) - 1)):\n",
    "        if(int(table1[i]) > key) and (not i):\n",
    "            index = 0\n",
    "            break\n",
    "        elif table1[i] == key:\n",
    "            return i*elements\n",
    "        elif table1[i] > key:\n",
    "            index = i - 1;\n",
    "            break\n",
    "            \n",
    "    index *= elements\n",
    "    if (index+elements) > (len(players)-1):\n",
    "        players = players[index:]\n",
    "    else:    \n",
    "        players = players[index:(index+elements)]\n",
    "        return binary_search(players, key)"
   ]
  },
  {
   "cell_type": "markdown",
   "metadata": {},
   "source": [
    "# Algorithm complexity and graphics"
   ]
  },
  {
   "cell_type": "code",
   "execution_count": 12,
   "metadata": {},
   "outputs": [],
   "source": [
    "def compute_search_time(search_method, players, random_players):\n",
    "    \"\"\"Method to compute the spent time of searching random players \n",
    "    \n",
    "    Attributes:\n",
    "        search_method: 'binary', 'ternary', 'sequencial indexed' or 'binary indexed';\n",
    "        players: list with all soccer players;\n",
    "        random_players: list of size 'n' with players ID.\n",
    "    \"\"\"\n",
    "    \n",
    "    search_times = list()\n",
    "    \n",
    "    start = time.time()\n",
    "    for random_player in random_players:\n",
    "        search_method(players, random_player)\n",
    "    end = time.time()\n",
    "    \n",
    "    search_times.append(end-start)\n",
    "    \n",
    "    return search_times"
   ]
  },
  {
   "cell_type": "code",
   "execution_count": 13,
   "metadata": {},
   "outputs": [],
   "source": [
    "def compare_algorithm_performance(players, max_quantity_players):\n",
    "    \"\"\"Compute algorithm performance and make graphics\n",
    "    \n",
    "    Attributes:\n",
    "        players: list with all soccer players;\n",
    "        max_quantity_players: max length of list with random players to perform comparation.\n",
    "    \"\"\"\n",
    "    \n",
    "    random_players_len = list()\n",
    "    players_to_search = list() \n",
    "    iterations = max_quantity_players // 100 + 1\n",
    "    \n",
    "    print(\">>> LOADING <<<: GENERATING GRAPHIC!\")\n",
    "    \n",
    "    bar = IntProgress(min=0, max=iterations, description='PROGRESS:') # instantiate the bar\n",
    "    display(bar)\n",
    "    \n",
    "    \n",
    "    binary_times = []\n",
    "    ternary_times = []\n",
    "    indexed_sequencial_times = []\n",
    "    indexed_binary_times = []\n",
    "    \n",
    "    for i in range(0, iterations):\n",
    "        players_to_search = []\n",
    "\n",
    "        # generate random players\n",
    "        for _ in range(i * 100):\n",
    "            players_to_search.append(random.choice(players).ID)\n",
    "\n",
    "        # compute time complexity of diferent types of algorithm\n",
    "        binary_times.append(compute_search_time(binary_search, players, players_to_search))\n",
    "        ternary_times.append(compute_search_time(ternary_search, players, players_to_search))\n",
    "        indexed_sequencial_times.append(compute_search_time(indexed_sequencial_search, players, players_to_search))\n",
    "        indexed_binary_times.append(compute_search_time(indexed_binary_search, players, players_to_search))\n",
    "\n",
    "        random_players_len.append(len(players_to_search))\n",
    "        \n",
    "        bar.value += 1\n",
    "    \n",
    "    algorithm_times = [binary_times, ternary_times, indexed_sequencial_times, indexed_binary_times]\n",
    "    \n",
    "    plot_graphics(random_players_len, algorithm_times)"
   ]
  },
  {
   "cell_type": "code",
   "execution_count": 14,
   "metadata": {},
   "outputs": [],
   "source": [
    "def plot_graphics(random_players_len, algorithm_times):\n",
    "    binary_times, ternary_times, indexed_sequencial_times, indexed_binary_times = algorithm_times\n",
    "    \n",
    "    plt.xlabel('Players to search') \n",
    "    plt.ylabel('Time Complexity (s)')\n",
    "    plt.plot(random_players_len, binary_times, label ='Binary sort') \n",
    "    plt.plot(random_players_len, ternary_times, label ='Ternary sort')\n",
    "    plt.plot(random_players_len, indexed_sequencial_times, label ='Indexed sequencial sort') \n",
    "    plt.plot(random_players_len, indexed_binary_times, label ='Indexed binary sort') \n",
    "\n",
    "    plt.grid()\n",
    "    plt.legend()\n",
    "    plt.show()\n",
    "    \n",
    "    plt.xlabel('Players to search') \n",
    "    plt.ylabel('Time Complexity')\n",
    "    plt.plot(random_players_len, binary_times, label ='Binary sort') \n",
    "    plt.plot(random_players_len, ternary_times, label ='Ternary sort')\n",
    "    \n",
    "    plt.grid()\n",
    "    plt.legend()\n",
    "    plt.show()"
   ]
  },
  {
   "cell_type": "code",
   "execution_count": 15,
   "metadata": {},
   "outputs": [
    {
     "name": "stdout",
     "output_type": "stream",
     "text": [
      ">>> LOADING <<<: GENERATING GRAPHIC!\n"
     ]
    },
    {
     "data": {
      "application/vnd.jupyter.widget-view+json": {
       "model_id": "d8ca646770c04f9e8fae4d4441c761f6",
       "version_major": 2,
       "version_minor": 0
      },
      "text/plain": [
       "IntProgress(value=0, description='PROGRESS:', max=54)"
      ]
     },
     "metadata": {},
     "output_type": "display_data"
    },
    {
     "data": {
      "image/png": "[encoded data removed]",
      "text/plain": [
       "<Figure size 432x288 with 1 Axes>"
      ]
     },
     "metadata": {
      "needs_background": "light"
     },
     "output_type": "display_data"
    },
    {
     "data": {
      "image/png": "[encoded data removed]",
      "text/plain": [
       "<Figure size 432x288 with 1 Axes>"
      ]
     },
     "metadata": {
      "needs_background": "light"
     },
     "output_type": "display_data"
    }
   ],
   "source": [
    "max_random_players = 5300\n",
    "compare_algorithm_performance(players, max_random_players)"
   ]
  },
  {
   "cell_type": "markdown",
   "metadata": {},
   "source": [
    "# Considerações finais\n",
    "\n",
    "Como foi proposto, foram feitas comparações entre alguns métodos de busca. Para a realização das comparações foram feitos acessos aleatórios em um conjunto de dados ordenados. Como esperado para esse tipo de dataset, as buscas binária e ternária, por terem complexidade logaritima, obtiveram melhores resultados em relação as buscas sequencial indexada e binaria indexada. Com a utilização de uma tabela  de índice conseguimos acelerar o acesso aleatório na busca sequencial, porém sua complexidade continuou linear. Na busca binária indexada, o  algorítimo implementado mescla a busca sequencial para a tabela de índice e busca binária para o  acesso no slot. Apesar dele demonstrar uma relevante melhora, ainda não alcança a performance de um algoritimo logaritimo devido uma parte do código ser implementado com busca sequencial.\n",
    "\n",
    "No segundo gráfico podemos perceber melhor os resultados alcançados pelos algoritmos com complexidade logarítima. No gráfico as duas apresentam resultado semelhante, porém em boa parte a busca binária responde mais rápido. Na busca binária, a cada interação, o intervalo é reduzido pela metate, logo ela tem complexidade logarítima na base 2. Já a ternária, a cada interação, descarta-se dois terços do intervalo, logo tem complexidade logarítima na base 3. Ao analaizarmos os algoritimos no pior caso, percebemos que na busca binária são feitas duas atribuições a cada interação  e na busca ternária são feitas 4 atribuições.\n",
    "\n",
    "Complexidade de tempo para busca binária = $2 \\cdot log_2 n$\n",
    "\n",
    "Complexidade de tempo para pesquisa Ternary = $4 \\cdot log_3 n$ \n",
    "\n",
    "\n",
    "Portanto, a comparação se resume na comparação das expressões $2 \\cdot log_3 n$ e $log_2 n$. O valor de $2 \\cdot log_3 n$ pode ser escrito como $(\\frac{2}{log_2 3}) \\cdot log_2 n$. Como o valor de $\\frac{2}{log_2 3} > 1$, a busca ternária faz mais comparações do que a pesquisa binária no pior dos casos.\n"
   ]
  }
 ],
 "metadata": {
  "kernelspec": {
   "display_name": "Python 3",
   "language": "python",
   "name": "python3"
  },
  "language_info": {
   "codemirror_mode": {
    "name": "ipython",
    "version": 3
   },
   "file_extension": ".py",
   "mimetype": "text/x-python",
   "name": "python",
   "nbconvert_exporter": "python",
   "pygments_lexer": "ipython3",
   "version": "3.7.1"
  }
 },
 "nbformat": 4,
 "nbformat_minor": 2
}
